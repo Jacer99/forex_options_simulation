{
 "cells": [
  {
   "cell_type": "markdown",
   "id": "2ba78a0a",
   "metadata": {},
   "source": [
    "# Forex Options Portfolio Simulation and Evaluation\n",
    "\n",
    "This notebook allows for interactive exploration and evaluation of the portfolio of European call options on the EUR/TND exchange rate. It demonstrates the pricing models implemented in this project and analyzes their performance."
   ]
  },
  {
   "cell_type": "code",
   "execution_count": null,
   "id": "f5c21a53",
   "metadata": {},
   "source": [
    "# Import necessary libraries\n",
    "import os\n",
    "import sys\n",
    "import numpy as np\n",
    "import pandas as pd\n",
    "import matplotlib.pyplot as plt\n",
    "import seaborn as sns\n",
    "import yaml\n",
    "from datetime import datetime\n",
    "\n",
    "# Add parent directory to Python path to import project modules\n",
    "sys.path.append('..')\n",
    "\n",
    "# Import project modules\n",
    "from src.data_generation.option_generator import OptionGenerator\n",
    "from src.market_data.data_handler import MarketDataHandler\n",
    "from src.portfolio.portfolio_manager import PortfolioManager\n",
    "from src.evaluation.performance_metrics import calculate_model_comparison, rank_models\n",
    "from src.visualization.plotting import (\n",
    "    plot_spot_rates, plot_active_notional, plot_model_comparison, \n",
    "    plot_error_metrics, plot_option_distribution, plot_price_vs_strike,\n",
    "    plot_volatility_smile, create_dashboard\n",
    ")\n",
    "\n",
    "# For better notebook display settings\n",
    "%matplotlib inline\n",
    "plt.rcParams['figure.figsize'] = (12, 6)\n",
    "pd.set_option('display.max_columns', None)\n",
    "pd.set_option('display.width', 200)"
   ]
  },
  {
   "cell_type": "markdown",
   "id": "7f95232c",
   "metadata": {},
   "source": [
    "## 1. Load Configuration and Data\n",
    "\n",
    "First, let's load the configuration file and the generated data."
   ]
  },
  {
   "cell_type": "code",
   "execution_count": null,
   "id": "f7f32f1b",
   "metadata": {},
   "source": [
    "# Load configuration\n",
    "with open('../config.yaml', 'r') as file:\n",
    "    config = yaml.safe_load(file)\n",
    "\n",
    "# Print some key configuration parameters\n",
    "print(f\"Currency Pair: {config['portfolio']['currency_pair']}\")\n",
    "print(f\"Date Range: {config['time']['start_date']} to {config['time']['end_date']}\")\n",
    "print(f\"Max Total Notional: €{config['portfolio']['max_total_notional']:,}\")\n",
    "print(f\"Number of Options: {config['simulation']['num_options']}\")"
   ]
  },
  {
   "cell_type": "code",
   "execution_count": null,
   "id": "5d47ee95",
   "metadata": {},
   "source": [
    "# Load option contracts\n",
    "options_file = \"../data/generated/option_contracts.csv\"\n",
    "if os.path.exists(options_file):\n",
    "    options_data = pd.read_csv(options_file)\n",
    "    print(f\"Loaded {len(options_data)} option contracts.\")\n",
    "else:\n",
    "    print(f\"Options file '{options_file}' not found. Generate data first.\")\n",
    "    # Generate option contracts\n",
    "    generator = OptionGenerator(config_path='../config.yaml')\n",
    "    options_data = generator.generate_portfolio()\n",
    "    generator.save_portfolio_to_csv()\n",
    "    print(f\"Generated {len(options_data)} option contracts.\")\n",
    "\n",
    "# Load market data\n",
    "market_handler = MarketDataHandler(config_path='../config.yaml')\n",
    "market_data = market_handler.load_market_data()\n",
    "\n",
    "if market_data[0] is None:\n",
    "    print(\"Market data not found. Generating data...\")\n",
    "    market_data = market_handler.generate_market_data(save=True)\n",
    "    print(\"Market data generated.\")\n",
    "else:\n",
    "    print(\"Market data loaded successfully.\")\n",
    "\n",
    "# Unpack market data\n",
    "spot_rates, volatility, interest_rates = market_data"
   ]
  },
  {
   "cell_type": "markdown",
   "id": "09d612a2",
   "metadata": {},
   "source": [
    "## 2. Explore the Options Portfolio\n",
    "\n",
    "Let's examine the structure and characteristics of the options portfolio."
   ]
  },
  {
   "cell_type": "code",
   "execution_count": null,
   "id": "ba6c1e9a",
   "metadata": {},
   "source": [
    "# Display the first few options\n",
    "options_data.head()"
   ]
  },
  {
   "cell_type": "code",
   "execution_count": null,
   "id": "e1f42ed5",
   "metadata": {},
   "source": [
    "# Portfolio statistics\n",
    "print(f\"Total Notional: €{options_data['notional'].sum():,.2f}\")\n",
    "print(f\"Average Notional per Option: €{options_data['notional'].mean():,.2f}\")\n",
    "print(f\"Average Days to Maturity: {options_data['days_to_maturity'].mean():.1f} days\")\n",
    "print(f\"Shortest Maturity: {options_data['days_to_maturity'].min()} days\")\n",
    "print(f\"Longest Maturity: {options_data['days_to_maturity'].max()} days\")"
   ]
  },
  {
   "cell_type": "code",
   "execution_count": null,
   "id": "7a7c1095",
   "metadata": {},
   "source": [
    "# Visualize option distribution\n",
    "fig = plot_option_distribution(options_data)\n",
    "plt.show()"
   ]
  },
  {
   "cell_type": "code",
   "execution_count": null,
   "id": "24c96ab8",
   "metadata": {},
   "source": [
    "# Load notional summary if available\n",
    "notional_summary_file = \"../data/generated/notional_summary.csv\"\n",
    "if os.path.exists(notional_summary_file):\n",
    "    notional_summary = pd.read_csv(notional_summary_file)\n",
    "    print(f\"Loaded notional summary with {len(notional_summary)} days.\")\n",
    "    \n",
    "    # Plot active notional over time\n",
    "    fig = plot_active_notional(notional_summary)\n",
    "    plt.show()"
   ]
  },
  {
   "cell_type": "markdown",
   "id": "42f3e1cc",
   "metadata": {},
   "source": [
    "## 3. Explore Market Data\n",
    "\n",
    "Let's examine the EUR/TND spot rates, volatility, and interest rates."
   ]
  },
  {
   "cell_type": "code",
   "execution_count": null,
   "id": "7fe5b4c8",
   "metadata": {},
   "source": [
    "# Plot spot rates and volatility\n",
    "fig = plot_spot_rates(spot_rates, volatility)\n",
    "plt.show()"
   ]
  },
  {
   "cell_type": "code",
   "execution_count": null,
   "id": "0b06e88a",
   "metadata": {},
   "source": [
    "# Plot interest rates\n",
    "plt.figure(figsize=(12, 6))\n",
    "interest_rates['date'] = pd.to_datetime(interest_rates['date'])\n",
    "plt.plot(interest_rates['date'], interest_rates['EUR_rate'] * 100, 'b-', label='EUR Interest Rate')\n",
    "plt.plot(interest_rates['date'], interest_rates['TND_rate'] * 100, 'r-', label='TND Interest Rate')\n",
    "plt.title('Interest Rates')\n",
    "plt.xlabel('Date')\n",
    "plt.ylabel('Rate (%)')\n",
    "plt.grid(True)\n",
    "plt.legend()\n",
    "plt.show()"
   ]
  },
  {
   "cell_type": "markdown",
   "id": "c2b3b4cd",
   "metadata": {},
   "source": [
    "## 4. Price the Portfolio\n",
    "\n",
    "Now, let's price the portfolio using all four pricing models:\n",
    "1. Black-Scholes (Garman-Kohlhagen)\n",
    "2. E-GARCH Monte Carlo\n",
    "3. Merton Jump-Diffusion\n",
    "4. SABR"
   ]
  },
  {
   "cell_type": "code",
   "execution_count": null,
   "id": "a9eefc20",
   "metadata": {},
   "source": [
    "# Initialize portfolio manager\n",
    "portfolio_manager = PortfolioManager(options_data, market_data, config_path='../config.yaml')\n",
    "\n",
    "# Price portfolio using all models\n",
    "priced_options = portfolio_manager.price_portfolio()\n",
    "\n",
    "# Calculate risk metrics\n",
    "priced_options, portfolio_risks = portfolio_manager.calculate_risks()\n",
    "\n",
    "# Display the pricing results\n",
    "priced_options[['option_id', 'notional', 'strike_price', 'days_to_maturity', \n",
    "                'bs_price', 'egarch_price', 'jd_price', 'sabr_price']].head()"
   ]
  },
  {
   "cell_type": "code",
   "execution_count": null,
   "id": "8a6fddb3",
   "metadata": {},
   "source": [
    "# Calculate the total option value according to each model\n",
    "price_columns = ['bs_price', 'egarch_price', 'jd_price', 'sabr_price']\n",
    "model_names = ['Black-Scholes', 'E-GARCH MC', 'Jump-Diffusion', 'SABR']\n",
    "\n",
    "total_prices = {}\n",
    "for col, name in zip(price_columns, model_names):\n",
    "    total_prices[name] = (priced_options[col] * priced_options['notional']).sum()\n",
    "\n",
    "# Print total portfolio values\n",
    "for name, value in total_prices.items():\n",
    "    print(f\"{name}: €{value:,.2f}\")\n",
    "\n",
    "# Plot the comparison\n",
    "fig = plot_model_comparison(priced_options, 'price')\n",
    "plt.show()"
   ]
  },
  {
   "cell_type": "code",
   "execution_count": null,
   "id": "21f7e65a",
   "metadata": {},
   "source": [
    "# Plot price vs. strike for each model\n",
    "fig = plot_price_vs_strike(priced_options)\n",
    "plt.show()"
   ]
  },
  {
   "cell_type": "code",
   "execution_count": null,
   "id": "4d7b48aa",
   "metadata": {},
   "source": [
    "# Plot the volatility smile\n",
    "if 'implied_volatility' in priced_options.columns:\n",
    "    fig = plot_volatility_smile(priced_options)\n",
    "    plt.show()"
   ]
  },
  {
   "cell_type": "code",
   "execution_count": null,
   "id": "05fb7d21",
   "metadata": {},
   "source": [
    "# Print portfolio risk metrics\n",
    "for risk, value in portfolio_risks.items():\n",
    "    print(f\"{risk}: {value:,.2f}\")"
   ]
  },
  {
   "cell_type": "markdown",
   "id": "ff6a456f",
   "metadata": {},
   "source": [
    "## 5. Calculate Actual Payoffs and PnL\n",
    "\n",
    "Now, let's calculate the actual payoffs of the options at maturity and the resulting profit and loss (PnL) for each pricing model."
   ]
  },
  {
   "cell_type": "code",
   "execution_count": null,
   "id": "1fae3e62",
   "metadata": {},
   "source": [
    "# Calculate actual payoffs\n",
    "options_with_payoffs = portfolio_manager.calculate_actual_payoffs(spot_rates)\n",
    "\n",
    "# Calculate PnL\n",
    "options_with_pnl, total_pnl = portfolio_manager.calculate_pnl()\n",
    "\n",
    "# Display the results\n",
    "options_with_pnl[['option_id', 'notional', 'strike_price', 'spot_rate_at_maturity', \n",
    "                  'actual_payoff', 'bs_price', 'bs_pnl', 'egarch_price', 'egarch_pnl', \n",
    "                  'jd_price', 'jd_pnl', 'sabr_price', 'sabr_pnl']].head()"
   ]
  },
  {
   "cell_type": "code",
   "execution_count": null,
   "id": "c5e72b88",
   "metadata": {},
   "source": [
    "# Print total PnL for each model\n",
    "for model, pnl in total_pnl.items():\n",
    "    print(f\"{model}: €{pnl:,.2f}\")\n",
    "\n",
    "# Plot the comparison\n",
    "fig = plot_model_comparison(options_with_pnl, 'pnl')\n",
    "plt.show()"
   ]
  },
  {
   "cell_type": "markdown",
   "id": "4f123e1a",
   "metadata": {},
   "source": [
    "## 6. Evaluate Model Performance\n",
    "\n",
    "Finally, let's evaluate the performance of each pricing model using various metrics."
   ]
  },
  {
   "cell_type": "code",
   "execution_count": null,
   "id": "1d234856",
   "metadata": {},
   "source": [
    "# Evaluate model performance\n",
    "metrics = portfolio_manager.evaluate_model_performance()\n",
    "\n",
    "# Print metrics for each model\n",
    "for model, model_metrics in metrics.items():\n",
    "    print(f\"\\n{model.upper()} Model Metrics:\")\n",
    "    for metric, value in model_metrics.items():\n",
    "        print(f\"  {metric}: {value:,.4f}\")"
   ]
  },
  {
   "cell_type": "code",
   "execution_count": null,
   "id": "f0be9d6c",
   "metadata": {},
   "source": [
    "# Calculate and rank model performance metrics\n",
    "model_comparison = calculate_model_comparison(options_with_pnl)\n",
    "ranked_models = rank_models(model_comparison)\n",
    "\n",
    "# Display the comparison table\n",
    "display(ranked_models)"
   ]
  },
  {
   "cell_type": "code",
   "execution_count": null,
   "id": "49ebfa99",
   "metadata": {},
   "source": [
    "# Plot error metrics\n",
    "if model_comparison is not None:\n",
    "    fig = plot_error_metrics(model_comparison)\n",
    "    plt.show()"
   ]
  },
  {
   "cell_type": "markdown",
   "id": "f5dd2f64",
   "metadata": {},
   "source": [
    "## 7. Conclusion\n",
    "\n",
    "This notebook has demonstrated the pricing, evaluation, and visualization of a portfolio of European call options on the EUR/TND exchange rate using four different pricing models. Each model has its strengths and weaknesses, as shown by the various performance metrics.\n",
    "\n",
    "Key findings:\n",
    "- The Black-Scholes (Garman-Kohlhagen) model provides a simple and computationally efficient solution, but it may not capture the volatility smile effect well.\n",
    "- The E-GARCH Monte Carlo model captures the time-varying nature of volatility, including the asymmetric response to positive and negative returns shocks.\n",
    "- The Merton Jump-Diffusion model accounts for sudden jumps in the exchange rate, which is important for capturing fat tails in the return distribution.\n",
    "- The SABR model handles the stochastic nature of volatility and its correlation with the exchange rate, making it particularly suitable for capturing the volatility smile effect.\n",
    "\n",
    "The choice of model should depend on the specific characteristics of the market and the options being priced."
   ]
  },
  {
   "cell_type": "code",
   "execution_count": null,
   "id": "21c18fcd",
   "metadata": {},
   "source": [
    "# Save the final results\n",
    "output_dir = '../output'\n",
    "os.makedirs(output_dir, exist_ok=True)\n",
    "portfolio_manager.save_results(output_dir)\n",
    "print(f\"Results saved to {output_dir}\")"
   ]
  }
 ],
 "metadata": {
  "kernelspec": {
   "display_name": "Python 3 (ipykernel)",
   "language": "python",
   "name": "python3"
  },
  "language_info": {
   "codemirror_mode": {
    "name": "ipython",
    "version": 3
   },
   "file_extension": ".py",
   "mimetype": "text/x-python",
   "name": "python",
   "nbconvert_exporter": "python",
   "pygments_lexer": "ipython3",
   "version": "3.9.7"
  }
 },
 "nbformat": 4,
 "nbformat_minor": 5
}